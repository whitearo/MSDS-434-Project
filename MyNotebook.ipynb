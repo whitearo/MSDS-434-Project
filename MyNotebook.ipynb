{
 "cells": [
  {
   "cell_type": "markdown",
   "metadata": {},
   "source": [
    "# Module 4 Mini Programming Assignment\n",
    "# Student: Aron White\n",
    "# Course: MSDS 432-DL Foundations of Data Engineering"
   ]
  },
  {
   "cell_type": "markdown",
   "metadata": {},
   "source": [
    "## Introduction\n",
    "\n",
    "This assignment uses five lists containing random strings with increasing list length to analyze the sorting execution time for QuickSort, BubbleSort, and InsertionSort algorithms.  Corresponding table and figures with discussion are provided along with an executive summary."
   ]
  },
  {
   "cell_type": "code",
   "execution_count": 92,
   "metadata": {},
   "outputs": [],
   "source": [
    "#Import Python libraries and packages\n",
    "\n",
    "import numpy as np\n",
    "import pandas as pd\n",
    "import matplotlib.pyplot as plt\n",
    "import time\n",
    "import timeit\n",
    "import string\n",
    "import random\n",
    "\n",
    "\n",
    "#------------------------------------------------------------------------------------------------\n",
    "# Generate random strings of length 50 characters for lists of lengths 200, 400, 600, 800, 1000 \n",
    "#------------------------------------------------------------------------------------------------\n",
    "\n",
    "def random_string(length):\n",
    "    np.random.seed(1)\n",
    "    return [''.join(random.choices(string.ascii_letters, k = 50)) for n in range(length)]\n",
    "\n",
    "string200 = random_string(200)\n",
    "string400 = random_string(400)\n",
    "string600 = random_string(600)\n",
    "string800 = random_string(800)\n",
    "string1000 = random_string(1000)"
   ]
  },
  {
   "cell_type": "markdown",
   "metadata": {},
   "source": [
    "## QuickSort Algorithm\n",
    "\n",
    "Discussion: The QuickSort algorithm is used to sort five lists of increasing length, each containing random strings.  QuickSort takes a list with an identifed pivot value (first element (0) in this case) and partitions the list into values before the pivot, the pivot value, and values after the pivot.  The algorithm then performs sorting.  Big O notation for this particular implementation of QuickSort is O(nlogn) which is for the average case."
   ]
  },
  {
   "cell_type": "code",
   "execution_count": 93,
   "metadata": {},
   "outputs": [],
   "source": [
    "#------------------------------------------------------------------------------------------------\n",
    "# Use quicksort for lists of lengths 200, 400, 600, 800, 1000\n",
    "#------------------------------------------------------------------------------------------------\n",
    "\n",
    "# Define quicksort function\n",
    "\n",
    "def quicksort(array):\n",
    "    if len(array) < 2:\n",
    "    # base case, arrays with 0 or 1 element are already \"sorted\"\n",
    "        return array\n",
    "    else:\n",
    "        # recursive case\n",
    "        pivot = array[0]\n",
    "        # sub-array of all the elements less than the pivot\n",
    "        less = [i for i in array[1:] if i <= pivot]\n",
    "        # sub-array of all the elements greater than the pivot\n",
    "        greater = [i for i in array[1:] if i > pivot]\n",
    "        return quicksort(less) + [pivot] + quicksort(greater)\n",
    "\n",
    "# Define function to use quicksort for lists of lengths 200, 400, 600, 800, 1000\n",
    "\n",
    "def quicksort_list(array):\n",
    "    quicksort_time_results = []\n",
    "    start_time = time.perf_counter()\n",
    "    quicksort_results = quicksort(array)\n",
    "    end_time = time.perf_counter()\n",
    "    t = (end_time-start_time)*1000\n",
    "    return (t, quicksort_results)\n",
    "\n",
    "(qsort_string200_time, qsort_string200_results) = (quicksort_list(string200))\n",
    "(qsort_string400_time, qsort_string400_results) = (quicksort_list(string400))\n",
    "(qsort_string600_time, qsort_string600_results) = (quicksort_list(string600))\n",
    "(qsort_string800_time, qsort_string800_results) = (quicksort_list(string800))\n",
    "(qsort_string1000_time, qsort_string1000_results) = (quicksort_list(string1000))\n",
    "\n",
    "# Place quicksort time results into a master list for comparison\n",
    "\n",
    "qsort_times = [qsort_string200_time, qsort_string400_time, qsort_string600_time, qsort_string800_time, qsort_string1000_time]"
   ]
  },
  {
   "cell_type": "markdown",
   "metadata": {},
   "source": [
    "## BubbleSort Algorithm\n",
    "\n",
    "Discussion: The BubbleSort algorithm is used to sort five lists of increasing length, each containing random strings.  BubbleSort passes through a list and swaps adjacent elements that are out of order, placing them in the correct order.  This passing through the list is repeated until the entire list is sorted.  Big O notation for this particular implementation of BubbleSort is O(n^2)."
   ]
  },
  {
   "cell_type": "code",
   "execution_count": 94,
   "metadata": {},
   "outputs": [],
   "source": [
    "#------------------------------------------------------------------------------------------------\n",
    "# Use bubblesort for lists of lengths 200, 400, 600, 800, 1000\n",
    "#------------------------------------------------------------------------------------------------\n",
    "\n",
    "# Define bubbleSort function\n",
    "\n",
    "def bubbleSort(array): \n",
    "    n = len(array) \n",
    "    # Traverse through all array elements \n",
    "    for i in range(n): \n",
    "          # Last i elements are already in place \n",
    "        for j in range(0, n-i-1): \n",
    "              # traverse the array from 0 to n-i-1 \n",
    "            # Swap if the element found is greater \n",
    "            # than the next element \n",
    "            if array[j] > array[j+1]: \n",
    "                array[j], array[j+1] = array[j+1], array[j]\n",
    "\n",
    "# Define function to use bubbleSort for lists of lengths 200, 400, 600, 800, 1000\n",
    "\n",
    "def bubbleSort_list(array):\n",
    "    bubbleSort_time_results = []\n",
    "    start_time = time.perf_counter()\n",
    "    bubbleSort_results = bubbleSort(array)\n",
    "    end_time = time.perf_counter()\n",
    "    t = (end_time-start_time)*1000\n",
    "    return (t, bubbleSort_results)\n",
    "\n",
    "(bsort_string200_time, bsort_string200_results) = (bubbleSort_list(string200))\n",
    "(bsort_string400_time, bsort_string400_results) = (bubbleSort_list(string400))\n",
    "(bsort_string600_time, bsort_string600_results) = (bubbleSort_list(string600))\n",
    "(bsort_string800_time, bsort_string800_results) = (bubbleSort_list(string800))\n",
    "(bsort_string1000_time, bsort_string1000_results) = (bubbleSort_list(string1000))\n",
    "\n",
    "# Place bubbleSort time results into a master list for comparison\n",
    "\n",
    "bsort_times = [bsort_string200_time, bsort_string400_time, bsort_string600_time, bsort_string800_time, bsort_string1000_time]"
   ]
  },
  {
   "cell_type": "markdown",
   "metadata": {},
   "source": [
    "## InsertionSort Algorithm\n",
    "\n",
    "Discussion: The InsertionSort algorithm is used to sort five lists of increasing length, each containing random strings.  InsertionSort loops through each element in a list and compares it to the previous elements.  If the looping element is smaller than any of the previous elements, it is then moved and inserted in front of the corresponding previous element.  This looping for each element in the list is repeated until the entire list is sorted.  Big O notation for this particular implementation of InsertionSort is O(n*2)."
   ]
  },
  {
   "cell_type": "code",
   "execution_count": 95,
   "metadata": {},
   "outputs": [],
   "source": [
    "#------------------------------------------------------------------------------------------------\n",
    "# Use insertionSort for lists of lengths 200, 400, 600, 800, 1000\n",
    "#------------------------------------------------------------------------------------------------\n",
    "\n",
    "# Define insertionSort function\n",
    "\n",
    "def insertionSort(array): \n",
    "  \n",
    "    # Traverse through 1 to len(arr) \n",
    "    for i in range(1, len(array)): \n",
    "        key = array[i] \n",
    "        # Move elements of arr[0..i-1], that are \n",
    "        # greater than key, to one position ahead \n",
    "        # of their current position \n",
    "        j = i-1\n",
    "        while j >= 0 and key < array[j] : \n",
    "                array[j + 1] = array[j] \n",
    "                j -= 1\n",
    "        array[j + 1] = key \n",
    "\n",
    "# Define function to use insertionSort for lists of lengths 200, 400, 600, 800, 1000\n",
    "\n",
    "def insertionSort_list(array):\n",
    "    insertionSort_time_results = []\n",
    "    start_time = time.perf_counter()\n",
    "    insertionSort_results = insertionSort(array)\n",
    "    end_time = time.perf_counter()\n",
    "    t = (end_time-start_time)*1000\n",
    "    return (t, insertionSort_results)\n",
    "\n",
    "(isort_string200_time, isort_string200_results) = (insertionSort_list(string200))\n",
    "(isort_string400_time, isort_string400_results) = (insertionSort_list(string400))\n",
    "(isort_string600_time, isort_string600_results) = (insertionSort_list(string600))\n",
    "(isort_string800_time, isort_string800_results) = (insertionSort_list(string800))\n",
    "(isort_string1000_time, isort_string1000_results) = (insertionSort_list(string1000))\n",
    "\n",
    "# Place insertionSort time results into a master list for comparison\n",
    "\n",
    "isort_times = [isort_string200_time, isort_string400_time, isort_string600_time, isort_string800_time, isort_string1000_time]"
   ]
  },
  {
   "cell_type": "markdown",
   "metadata": {},
   "source": [
    "## Table 1: Algorithm Execution Times\n",
    "\n",
    "Discussion: The execution times for each algorithm evaluated (QuickSort, Bubblesort, InsertionSort) increase as list length increases.  While QuickSort and InsertionSort have similiar execution time scales and growth rates, BubbleSort has a larger execution time scale compared to the other two algorithms along with a greater rate of increase for execution time as list length increases.  Based upon Table 1 results, InsertionSort appears to be the most preferable with the smallest sort times for each list and the smallest rate of growth."
   ]
  },
  {
   "cell_type": "code",
   "execution_count": 96,
   "metadata": {},
   "outputs": [
    {
     "data": {
      "text/html": [
       "<div>\n",
       "<style scoped>\n",
       "    .dataframe tbody tr th:only-of-type {\n",
       "        vertical-align: middle;\n",
       "    }\n",
       "\n",
       "    .dataframe tbody tr th {\n",
       "        vertical-align: top;\n",
       "    }\n",
       "\n",
       "    .dataframe thead th {\n",
       "        text-align: right;\n",
       "    }\n",
       "</style>\n",
       "<table border=\"1\" class=\"dataframe\">\n",
       "  <thead>\n",
       "    <tr style=\"text-align: right;\">\n",
       "      <th></th>\n",
       "      <th>List Length</th>\n",
       "      <th>QuickSort Times</th>\n",
       "      <th>BubbleSort Times</th>\n",
       "      <th>InsertionSort Times</th>\n",
       "    </tr>\n",
       "  </thead>\n",
       "  <tbody>\n",
       "    <tr>\n",
       "      <th>0</th>\n",
       "      <td>200</td>\n",
       "      <td>0.4953</td>\n",
       "      <td>3.1055</td>\n",
       "      <td>0.0597</td>\n",
       "    </tr>\n",
       "    <tr>\n",
       "      <th>1</th>\n",
       "      <td>400</td>\n",
       "      <td>0.9162</td>\n",
       "      <td>21.3677</td>\n",
       "      <td>0.1148</td>\n",
       "    </tr>\n",
       "    <tr>\n",
       "      <th>2</th>\n",
       "      <td>600</td>\n",
       "      <td>1.3812</td>\n",
       "      <td>34.4011</td>\n",
       "      <td>0.1645</td>\n",
       "    </tr>\n",
       "    <tr>\n",
       "      <th>3</th>\n",
       "      <td>800</td>\n",
       "      <td>1.8491</td>\n",
       "      <td>55.6243</td>\n",
       "      <td>0.2298</td>\n",
       "    </tr>\n",
       "    <tr>\n",
       "      <th>4</th>\n",
       "      <td>1000</td>\n",
       "      <td>7.2356</td>\n",
       "      <td>81.8038</td>\n",
       "      <td>0.3239</td>\n",
       "    </tr>\n",
       "  </tbody>\n",
       "</table>\n",
       "</div>"
      ],
      "text/plain": [
       "   List Length  QuickSort Times  BubbleSort Times  InsertionSort Times\n",
       "0          200           0.4953            3.1055               0.0597\n",
       "1          400           0.9162           21.3677               0.1148\n",
       "2          600           1.3812           34.4011               0.1645\n",
       "3          800           1.8491           55.6243               0.2298\n",
       "4         1000           7.2356           81.8038               0.3239"
      ]
     },
     "execution_count": 96,
     "metadata": {},
     "output_type": "execute_result"
    }
   ],
   "source": [
    "# Create table for to compare list sorting times for quicksort, bubblesort, and insertionsort\n",
    "\n",
    "execution_data = pd.DataFrame({\n",
    "    'List Length': [len(string200), len(string400), len(string600), len(string800), len(string1000)],\n",
    "    'QuickSort Times': qsort_times,\n",
    "    'BubbleSort Times': bsort_times,\n",
    "    'InsertionSort Times': isort_times\n",
    "})\n",
    "\n",
    "execution_data_1 = execution_data[['List Length','QuickSort Times','BubbleSort Times','InsertionSort Times']]\n",
    "execution_data_1"
   ]
  },
  {
   "cell_type": "markdown",
   "metadata": {},
   "source": [
    "## Figure 1: QuickSort Execution Time\n",
    "\n",
    "Discussion: Figure 1 demontrates the results of Table 1 visually in that QuickSort has a similiar execution time scale and growth rate with InsertionSort (see Figure 3), and also performs better compared to BubbleSort (see Figure 2) which has a larger execution time scale compared to the other two algorithms along with a greater rate of increase for execution time.  QuickSort is the second most preferable of the three algorithms in terms of speed."
   ]
  },
  {
   "cell_type": "code",
   "execution_count": 97,
   "metadata": {},
   "outputs": [
    {
     "data": {
      "text/plain": [
       "[]"
      ]
     },
     "execution_count": 97,
     "metadata": {},
     "output_type": "execute_result"
    },
    {
     "data": {
      "image/png": "[encoded data removed]",
      "text/plain": [
       "<matplotlib.figure.Figure at 0x1e9c0857390>"
      ]
     },
     "metadata": {},
     "output_type": "display_data"
    }
   ],
   "source": [
    "# Create plot for QuickSort times against list length.\n",
    "\n",
    "ax = plt.gca()\n",
    "\n",
    "execution_data_1.plot(kind='line',x='List Length',y='QuickSort Times',ax=ax)\n",
    "\n",
    "plt.xlabel('List Length')\n",
    "plt.ylabel('Execution Time')\n",
    "plt.title('Figure 1: QuickSort Execution Runtime')\n",
    "plt.plot()"
   ]
  },
  {
   "cell_type": "markdown",
   "metadata": {},
   "source": [
    "## Figure 2: BubbleSort Execution Time\n",
    "\n",
    "Discussion: Figure 2 demontrates the results of Table 1 visually in that BubbleSort has a larger execution time scale compared to QuickSort (see Figure 1) and InsertionSort (see Figure 3) along with a greater rate of increase for execution time.  BubbleSort is the least preferable of the three algorithms in terms of speed."
   ]
  },
  {
   "cell_type": "code",
   "execution_count": 98,
   "metadata": {},
   "outputs": [
    {
     "data": {
      "text/plain": [
       "[]"
      ]
     },
     "execution_count": 98,
     "metadata": {},
     "output_type": "execute_result"
    },
    {
     "data": {
      "image/png": "[encoded data removed]",
      "text/plain": [
       "<matplotlib.figure.Figure at 0x1e9c1ea3b70>"
      ]
     },
     "metadata": {},
     "output_type": "display_data"
    }
   ],
   "source": [
    "# Create plot for BubbleSort times against list length.\n",
    "\n",
    "ax = plt.gca()\n",
    "\n",
    "execution_data_1.plot(kind='line',x='List Length',y='BubbleSort Times', color='green',ax=ax)\n",
    "\n",
    "plt.xlabel('List Length')\n",
    "plt.ylabel('Execution Time')\n",
    "plt.title('Figure 2: BubbleSort Execution Runtime')\n",
    "plt.plot()"
   ]
  },
  {
   "cell_type": "markdown",
   "metadata": {},
   "source": [
    "## Figure 3: InsertionSort Execution Time\n",
    "\n",
    "Discussion: Figure 3 demontrates the results of Table 1 visually in that InsertionSort has a similiar execution time scale and growth rate with QuickSort (see Figure 1), and also performs better compared to BubbleSort (see Figure 2) which has a larger execution time scale compared to the other two algorithms along with a greater rate of increase for execution time.  InsertionSort is the most preferable of the three algorithms in terms of speed."
   ]
  },
  {
   "cell_type": "code",
   "execution_count": 99,
   "metadata": {},
   "outputs": [
    {
     "data": {
      "text/plain": [
       "[]"
      ]
     },
     "execution_count": 99,
     "metadata": {},
     "output_type": "execute_result"
    },
    {
     "data": {
      "image/png": "[encoded data removed]",
      "text/plain": [
       "<matplotlib.figure.Figure at 0x1e9c2062748>"
      ]
     },
     "metadata": {},
     "output_type": "display_data"
    }
   ],
   "source": [
    "# Create plot for InsertionSort times against list length.\n",
    "\n",
    "ax = plt.gca()\n",
    "\n",
    "execution_data_1.plot(kind='line',x='List Length',y='InsertionSort Times', color='purple',ax=ax)\n",
    "\n",
    "plt.xlabel('List Length')\n",
    "plt.ylabel('Execution Time')\n",
    "plt.title('Figure 3: InsertionSort Execution Runtime')\n",
    "plt.plot()"
   ]
  },
  {
   "cell_type": "markdown",
   "metadata": {},
   "source": [
    "## Figure 4: Algorithm Excution Times\n",
    "\n",
    "Discussion: Figure 4 demonstrates the results of Table 1 by visually comparing execution times for all three algorithms.  InsertionSort is the most preferable in terms of speed and has a similiar execution time scale and growth rate with QuickSort which is the second most preferable algorithm.  BubbleSort is the least preferable algorithm in terms of speed due to having the largest execution time scale compared to the other two algorithms along with the greatest rate of increase for execution time."
   ]
  },
  {
   "cell_type": "code",
   "execution_count": 100,
   "metadata": {},
   "outputs": [
    {
     "data": {
      "image/png": "[encoded data removed]",
      "text/plain": [
       "<matplotlib.figure.Figure at 0x1e9c20a1470>"
      ]
     },
     "metadata": {},
     "output_type": "display_data"
    }
   ],
   "source": [
    "# Create plot for algorithm sort times comparison against list length.\n",
    "\n",
    "ax = plt.gca()\n",
    "\n",
    "execution_data_1.plot(kind='line',x='List Length',y='QuickSort Times', ax=ax)\n",
    "execution_data_1.plot(kind='line',x='List Length',y='BubbleSort Times', color='green', ax=ax)\n",
    "execution_data_1.plot(kind='line',x='List Length',y='InsertionSort Times', color='purple', ax=ax)\n",
    "\n",
    "plt.xlabel('List Length')\n",
    "plt.ylabel('Execution Time')\n",
    "plt.title('Figure 4: Algorithm Comparison Execution Runtime')\n",
    "plt.show()"
   ]
  },
  {
   "cell_type": "markdown",
   "metadata": {},
   "source": [
    "### Executive Summary:\n",
    "\n",
    "There are a variety of algorithms available for sorting data, and this assignment evaluates the execution time performance for three specific ones (QuickSort, BubbleSort, InsertionSort).  Based upon the results presented in Table 1 and Figures 1-4, the following recommendations are made for algorithm selection preference.\n",
    "\n",
    "First Choice: InsertionSort is the fastest due to having the smallest execution times and smallest rate of growth for each list length.  Big O notation is O(n*2).\n",
    "\n",
    "Second Choice: QuickSort since its performance is similar to InsertionSort, but has slightly greater execution times and rate of growth compared to InsertionSort.  Big O notation is O(nlogn).\n",
    "\n",
    "Third Choice: BubbleSort is a distant third when compared to the other two algorithms due to having both significantly larger execution times and rate of growth as list length increases.  Big O notation is O(n^2)."
   ]
  }
 ],
 "metadata": {
  "kernelspec": {
   "display_name": "Python 3",
   "language": "python",
   "name": "python3"
  },
  "language_info": {
   "codemirror_mode": {
    "name": "ipython",
    "version": 3
   },
   "file_extension": ".py",
   "mimetype": "text/x-python",
   "name": "python",
   "nbconvert_exporter": "python",
   "pygments_lexer": "ipython3",
   "version": "3.6.4"
  }
 },
 "nbformat": 4,
 "nbformat_minor": 2
}
